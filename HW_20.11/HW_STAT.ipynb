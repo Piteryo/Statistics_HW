{
  "nbformat": 4,
  "nbformat_minor": 0,
  "metadata": {
    "colab": {
      "name": "HW4_STAT.ipynb",
      "provenance": [],
      "collapsed_sections": []
    },
    "kernelspec": {
      "name": "python3",
      "display_name": "Python 3"
    }
  },
  "cells": [
    {
      "cell_type": "code",
      "metadata": {
        "id": "LPcCY3Ie-H_U",
        "colab_type": "code",
        "colab": {}
      },
      "source": [
        "import numpy as np\n",
        "import scipy.stats"
      ],
      "execution_count": 0,
      "outputs": []
    },
    {
      "cell_type": "markdown",
      "metadata": {
        "id": "0Q5OgMHQ-iW2",
        "colab_type": "text"
      },
      "source": [
        "## Задача 1\n",
        "\n",
        "Проверить гипотезу однородности с $\\alpha = 0.05$ "
      ]
    },
    {
      "cell_type": "code",
      "metadata": {
        "id": "b1CDb_uhFhIl",
        "colab_type": "code",
        "colab": {}
      },
      "source": [
        "N = 3.9*(10**5)\n",
        "x = np.array([3.85, 31.13, 32.96, 29.92, 2.13])*N/100\n",
        "y = np.array([7.92, 36.16, 25.09, 27.49, 3.34])*N/100"
      ],
      "execution_count": 0,
      "outputs": []
    },
    {
      "cell_type": "code",
      "metadata": {
        "id": "rfUXbD6LFi3z",
        "colab_type": "code",
        "colab": {
          "base_uri": "https://localhost:8080/",
          "height": 34
        },
        "outputId": "85e2cfc4-6d57-433a-b703-77a7195f5e66"
      },
      "source": [
        "half = (x + y) / 2\n",
        "stats = np.sum(((x - half) ** 2 + (y - half) ** 2) / half)\n",
        "stats"
      ],
      "execution_count": 6,
      "outputs": [
        {
          "output_type": "execute_result",
          "data": {
            "text/plain": [
              "12561.32965928641"
            ]
          },
          "metadata": {
            "tags": []
          },
          "execution_count": 6
        }
      ]
    },
    {
      "cell_type": "code",
      "metadata": {
        "id": "TF4eZgYYF97T",
        "colab_type": "code",
        "colab": {
          "base_uri": "https://localhost:8080/",
          "height": 34
        },
        "outputId": "a4b5c2a3-7394-45c2-944a-07237c1e073e"
      },
      "source": [
        "chi = scipy.stats.chi2.ppf(0.95, df=4)\n",
        "chi"
      ],
      "execution_count": 12,
      "outputs": [
        {
          "output_type": "execute_result",
          "data": {
            "text/plain": [
              "9.487729036781154"
            ]
          },
          "metadata": {
            "tags": []
          },
          "execution_count": 12
        }
      ]
    },
    {
      "cell_type": "markdown",
      "metadata": {
        "id": "cHxnTiEoGu0F",
        "colab_type": "text"
      },
      "source": [
        "Итого имеем, что квантиль хи-квадрат с четырьмя степенями свободы и нужным уровнем значимости сильно меньше статистики критерия. Поэтому отвергаем нулевую гипотезу об однородности этих распределений"
      ]
    },
    {
      "cell_type": "markdown",
      "metadata": {
        "id": "kk48NUXRGx-r",
        "colab_type": "text"
      },
      "source": [
        "## Задача 2"
      ]
    },
    {
      "cell_type": "markdown",
      "metadata": {
        "id": "SD4zqLzOHOvd",
        "colab_type": "text"
      },
      "source": [
        "Будем пользоваться критерием согласия Пирсона"
      ]
    },
    {
      "cell_type": "code",
      "metadata": {
        "id": "X3jqp1pAGJdB",
        "colab_type": "code",
        "colab": {
          "base_uri": "https://localhost:8080/",
          "height": 68
        },
        "outputId": "19127994-7f63-4c58-ec62-2e3f1e1c3bf1"
      },
      "source": [
        "n = 2020\n",
        "men = np.array([476, 1017, 527])\n",
        "\n",
        "def chi_theta(th):\n",
        "    p = np.array([(1 - th) ** 2, 2 * th * (1 - th), th ** 2])\n",
        "    return np.sum(((men - n*p) ** 2)/(n*p))\n",
        "\n",
        "stats = scipy.optimize.minimize_scalar(chi_theta, method='Bounded', bounds = (0, 1))\n",
        "\n",
        "chi_res = scipy.stats.chi2.ppf(0.95, df=1)\n",
        "\n",
        "print('Оценка:', stats.x)\n",
        "print('Статистика:', stats.fun)\n",
        "print('Квантиль:', chi_res)"
      ],
      "execution_count": 15,
      "outputs": [
        {
          "output_type": "stream",
          "text": [
            "Оценка: 0.512622996198938\n",
            "Статистика: 0.115846366881675\n",
            "Квантиль: 3.841458820694124\n"
          ],
          "name": "stdout"
        }
      ]
    },
    {
      "cell_type": "markdown",
      "metadata": {
        "id": "mTtkvcw_I_Zf",
        "colab_type": "text"
      },
      "source": [
        "Посчитали квантиль с 1 степенью свободы и соответствующим уровнем значимости\n",
        "\n",
        "Статистика получилась меньше квантили, получается отвергнуть нулевую гипотезу нельзя. \n"
      ]
    }
  ]
}